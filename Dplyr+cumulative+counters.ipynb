{
 "cells": [
  {
   "cell_type": "code",
   "execution_count": 3,
   "metadata": {},
   "outputs": [
    {
     "name": "stderr",
     "output_type": "stream",
     "text": [
      "\n",
      "Attaching package: ‘dplyr’\n",
      "\n",
      "The following objects are masked from ‘package:stats’:\n",
      "\n",
      "    filter, lag\n",
      "\n",
      "The following objects are masked from ‘package:base’:\n",
      "\n",
      "    intersect, setdiff, setequal, union\n",
      "\n"
     ]
    }
   ],
   "source": [
    "library(dplyr)"
   ]
  },
  {
   "cell_type": "code",
   "execution_count": 4,
   "metadata": {
    "collapsed": true
   },
   "outputs": [],
   "source": [
    "#Create test df\n",
    "df_test <- data.frame(Name = c('Jack','Jack','Jack',\n",
    "                     'Al','Al','Al','Al',\n",
    "                     'Sam','Sam','Sam'),\n",
    "           Date = as.Date(c('2011-10-09','2011-11-09','2011-09-09',\n",
    "                     '2011-12-09','2011-11-08','2011-11-06','2011-12-29',\n",
    "                     '2011-10-09','2011-10-09','2010-10-09')),\n",
    "           City = c('Urbana','Champaign','Urbana',\n",
    "                     'Dayton','Dayton','N/A',' ',\n",
    "                     'Lafayette','Lafayette','New Orleans'),\n",
    "           Sales = c(2000,3000,3050,\n",
    "                     4000,6000,2000,1500,\n",
    "                     2500,3000,4000),\n",
    "           Type  = c('Phone','Person','Person',\n",
    "                     'Phone','Person','Person','Phone',\n",
    "                      'Person','Person','Phone') )"
   ]
  },
  {
   "cell_type": "code",
   "execution_count": 8,
   "metadata": {},
   "outputs": [
    {
     "data": {
      "text/html": [
       "<table>\n",
       "<thead><tr><th scope=col>Name</th><th scope=col>Date</th><th scope=col>City</th><th scope=col>Sales</th><th scope=col>Type</th><th scope=col>Num_Sales</th><th scope=col>Num_Phone_Sales</th></tr></thead>\n",
       "<tbody>\n",
       "\t<tr><td>Al         </td><td>2011-11-06 </td><td>N/A        </td><td>2000       </td><td>Person     </td><td>1          </td><td>0          </td></tr>\n",
       "\t<tr><td>Al         </td><td>2011-11-08 </td><td>Dayton     </td><td>6000       </td><td>Person     </td><td>2          </td><td>0          </td></tr>\n",
       "\t<tr><td>Al         </td><td>2011-12-09 </td><td>Dayton     </td><td>4000       </td><td>Phone      </td><td>3          </td><td>1          </td></tr>\n",
       "\t<tr><td>Al         </td><td>2011-12-29 </td><td>           </td><td>1500       </td><td>Phone      </td><td>4          </td><td>2          </td></tr>\n",
       "\t<tr><td>Jack       </td><td>2011-09-09 </td><td>Urbana     </td><td>3050       </td><td>Person     </td><td>1          </td><td>0          </td></tr>\n",
       "\t<tr><td>Jack       </td><td>2011-10-09 </td><td>Urbana     </td><td>2000       </td><td>Phone      </td><td>2          </td><td>1          </td></tr>\n",
       "\t<tr><td>Jack       </td><td>2011-11-09 </td><td>Champaign  </td><td>3000       </td><td>Person     </td><td>3          </td><td>1          </td></tr>\n",
       "\t<tr><td>Sam        </td><td>2010-10-09 </td><td>New Orleans</td><td>4000       </td><td>Phone      </td><td>1          </td><td>1          </td></tr>\n",
       "\t<tr><td>Sam        </td><td>2011-10-09 </td><td>Lafayette  </td><td>2500       </td><td>Person     </td><td>2          </td><td>1          </td></tr>\n",
       "\t<tr><td>Sam        </td><td>2011-10-09 </td><td>Lafayette  </td><td>3000       </td><td>Person     </td><td>3          </td><td>1          </td></tr>\n",
       "</tbody>\n",
       "</table>\n"
      ],
      "text/latex": [
       "\\begin{tabular}{r|lllllll}\n",
       " Name & Date & City & Sales & Type & Num\\_Sales & Num\\_Phone\\_Sales\\\\\n",
       "\\hline\n",
       "\t Al          & 2011-11-06  & N/A         & 2000        & Person      & 1           & 0          \\\\\n",
       "\t Al          & 2011-11-08  & Dayton      & 6000        & Person      & 2           & 0          \\\\\n",
       "\t Al          & 2011-12-09  & Dayton      & 4000        & Phone       & 3           & 1          \\\\\n",
       "\t Al          & 2011-12-29  &             & 1500        & Phone       & 4           & 2          \\\\\n",
       "\t Jack        & 2011-09-09  & Urbana      & 3050        & Person      & 1           & 0          \\\\\n",
       "\t Jack        & 2011-10-09  & Urbana      & 2000        & Phone       & 2           & 1          \\\\\n",
       "\t Jack        & 2011-11-09  & Champaign   & 3000        & Person      & 3           & 1          \\\\\n",
       "\t Sam         & 2010-10-09  & New Orleans & 4000        & Phone       & 1           & 1          \\\\\n",
       "\t Sam         & 2011-10-09  & Lafayette   & 2500        & Person      & 2           & 1          \\\\\n",
       "\t Sam         & 2011-10-09  & Lafayette   & 3000        & Person      & 3           & 1          \\\\\n",
       "\\end{tabular}\n"
      ],
      "text/markdown": [
       "\n",
       "Name | Date | City | Sales | Type | Num_Sales | Num_Phone_Sales | \n",
       "|---|---|---|---|---|---|---|---|---|---|\n",
       "| Al          | 2011-11-06  | N/A         | 2000        | Person      | 1           | 0           | \n",
       "| Al          | 2011-11-08  | Dayton      | 6000        | Person      | 2           | 0           | \n",
       "| Al          | 2011-12-09  | Dayton      | 4000        | Phone       | 3           | 1           | \n",
       "| Al          | 2011-12-29  |             | 1500        | Phone       | 4           | 2           | \n",
       "| Jack        | 2011-09-09  | Urbana      | 3050        | Person      | 1           | 0           | \n",
       "| Jack        | 2011-10-09  | Urbana      | 2000        | Phone       | 2           | 1           | \n",
       "| Jack        | 2011-11-09  | Champaign   | 3000        | Person      | 3           | 1           | \n",
       "| Sam         | 2010-10-09  | New Orleans | 4000        | Phone       | 1           | 1           | \n",
       "| Sam         | 2011-10-09  | Lafayette   | 2500        | Person      | 2           | 1           | \n",
       "| Sam         | 2011-10-09  | Lafayette   | 3000        | Person      | 3           | 1           | \n",
       "\n",
       "\n"
      ],
      "text/plain": [
       "   Name Date       City        Sales Type   Num_Sales Num_Phone_Sales\n",
       "1  Al   2011-11-06 N/A         2000  Person 1         0              \n",
       "2  Al   2011-11-08 Dayton      6000  Person 2         0              \n",
       "3  Al   2011-12-09 Dayton      4000  Phone  3         1              \n",
       "4  Al   2011-12-29             1500  Phone  4         2              \n",
       "5  Jack 2011-09-09 Urbana      3050  Person 1         0              \n",
       "6  Jack 2011-10-09 Urbana      2000  Phone  2         1              \n",
       "7  Jack 2011-11-09 Champaign   3000  Person 3         1              \n",
       "8  Sam  2010-10-09 New Orleans 4000  Phone  1         1              \n",
       "9  Sam  2011-10-09 Lafayette   2500  Person 2         1              \n",
       "10 Sam  2011-10-09 Lafayette   3000  Person 3         1              "
      ]
     },
     "metadata": {},
     "output_type": "display_data"
    }
   ],
   "source": [
    "#Get Totals to Date of Sales and Phone-Sales\n",
    "\n",
    "df_test %>% \n",
    "    arrange(Name,Date) %>%\n",
    "    group_by(Name) %>%\n",
    "    mutate(Num_Sales = row_number(),\n",
    "           Num_Phone_Sales= cumsum(Type == \"Phone\"))"
   ]
  },
  {
   "cell_type": "code",
   "execution_count": 9,
   "metadata": {},
   "outputs": [
    {
     "data": {
      "text/html": [
       "<table>\n",
       "<thead><tr><th scope=col>Name</th><th scope=col>Date</th><th scope=col>City</th><th scope=col>Sales</th><th scope=col>Type</th><th scope=col>Num_Sales</th><th scope=col>Num_Phone_Sales</th></tr></thead>\n",
       "<tbody>\n",
       "\t<tr><td>Al         </td><td>2011-11-06 </td><td>N/A        </td><td>2000       </td><td>Person     </td><td>0          </td><td>0          </td></tr>\n",
       "\t<tr><td>Al         </td><td>2011-11-08 </td><td>Dayton     </td><td>6000       </td><td>Person     </td><td>1          </td><td>0          </td></tr>\n",
       "\t<tr><td>Al         </td><td>2011-12-09 </td><td>Dayton     </td><td>4000       </td><td>Phone      </td><td>2          </td><td>0          </td></tr>\n",
       "\t<tr><td>Al         </td><td>2011-12-29 </td><td>           </td><td>1500       </td><td>Phone      </td><td>3          </td><td>1          </td></tr>\n",
       "\t<tr><td>Jack       </td><td>2011-09-09 </td><td>Urbana     </td><td>3050       </td><td>Person     </td><td>0          </td><td>0          </td></tr>\n",
       "\t<tr><td>Jack       </td><td>2011-10-09 </td><td>Urbana     </td><td>2000       </td><td>Phone      </td><td>1          </td><td>0          </td></tr>\n",
       "\t<tr><td>Jack       </td><td>2011-11-09 </td><td>Champaign  </td><td>3000       </td><td>Person     </td><td>2          </td><td>1          </td></tr>\n",
       "\t<tr><td>Sam        </td><td>2010-10-09 </td><td>New Orleans</td><td>4000       </td><td>Phone      </td><td>0          </td><td>0          </td></tr>\n",
       "\t<tr><td>Sam        </td><td>2011-10-09 </td><td>Lafayette  </td><td>2500       </td><td>Person     </td><td>1          </td><td>1          </td></tr>\n",
       "\t<tr><td>Sam        </td><td>2011-10-09 </td><td>Lafayette  </td><td>3000       </td><td>Person     </td><td>2          </td><td>1          </td></tr>\n",
       "</tbody>\n",
       "</table>\n"
      ],
      "text/latex": [
       "\\begin{tabular}{r|lllllll}\n",
       " Name & Date & City & Sales & Type & Num\\_Sales & Num\\_Phone\\_Sales\\\\\n",
       "\\hline\n",
       "\t Al          & 2011-11-06  & N/A         & 2000        & Person      & 0           & 0          \\\\\n",
       "\t Al          & 2011-11-08  & Dayton      & 6000        & Person      & 1           & 0          \\\\\n",
       "\t Al          & 2011-12-09  & Dayton      & 4000        & Phone       & 2           & 0          \\\\\n",
       "\t Al          & 2011-12-29  &             & 1500        & Phone       & 3           & 1          \\\\\n",
       "\t Jack        & 2011-09-09  & Urbana      & 3050        & Person      & 0           & 0          \\\\\n",
       "\t Jack        & 2011-10-09  & Urbana      & 2000        & Phone       & 1           & 0          \\\\\n",
       "\t Jack        & 2011-11-09  & Champaign   & 3000        & Person      & 2           & 1          \\\\\n",
       "\t Sam         & 2010-10-09  & New Orleans & 4000        & Phone       & 0           & 0          \\\\\n",
       "\t Sam         & 2011-10-09  & Lafayette   & 2500        & Person      & 1           & 1          \\\\\n",
       "\t Sam         & 2011-10-09  & Lafayette   & 3000        & Person      & 2           & 1          \\\\\n",
       "\\end{tabular}\n"
      ],
      "text/markdown": [
       "\n",
       "Name | Date | City | Sales | Type | Num_Sales | Num_Phone_Sales | \n",
       "|---|---|---|---|---|---|---|---|---|---|\n",
       "| Al          | 2011-11-06  | N/A         | 2000        | Person      | 0           | 0           | \n",
       "| Al          | 2011-11-08  | Dayton      | 6000        | Person      | 1           | 0           | \n",
       "| Al          | 2011-12-09  | Dayton      | 4000        | Phone       | 2           | 0           | \n",
       "| Al          | 2011-12-29  |             | 1500        | Phone       | 3           | 1           | \n",
       "| Jack        | 2011-09-09  | Urbana      | 3050        | Person      | 0           | 0           | \n",
       "| Jack        | 2011-10-09  | Urbana      | 2000        | Phone       | 1           | 0           | \n",
       "| Jack        | 2011-11-09  | Champaign   | 3000        | Person      | 2           | 1           | \n",
       "| Sam         | 2010-10-09  | New Orleans | 4000        | Phone       | 0           | 0           | \n",
       "| Sam         | 2011-10-09  | Lafayette   | 2500        | Person      | 1           | 1           | \n",
       "| Sam         | 2011-10-09  | Lafayette   | 3000        | Person      | 2           | 1           | \n",
       "\n",
       "\n"
      ],
      "text/plain": [
       "   Name Date       City        Sales Type   Num_Sales Num_Phone_Sales\n",
       "1  Al   2011-11-06 N/A         2000  Person 0         0              \n",
       "2  Al   2011-11-08 Dayton      6000  Person 1         0              \n",
       "3  Al   2011-12-09 Dayton      4000  Phone  2         0              \n",
       "4  Al   2011-12-29             1500  Phone  3         1              \n",
       "5  Jack 2011-09-09 Urbana      3050  Person 0         0              \n",
       "6  Jack 2011-10-09 Urbana      2000  Phone  1         0              \n",
       "7  Jack 2011-11-09 Champaign   3000  Person 2         1              \n",
       "8  Sam  2010-10-09 New Orleans 4000  Phone  0         0              \n",
       "9  Sam  2011-10-09 Lafayette   2500  Person 1         1              \n",
       "10 Sam  2011-10-09 Lafayette   3000  Person 2         1              "
      ]
     },
     "metadata": {},
     "output_type": "display_data"
    }
   ],
   "source": [
    "#Get Totals of pervious Sales and Phone-Sales\n",
    "\n",
    "df_test %>% \n",
    "    arrange(Name,Date) %>%\n",
    "    group_by(Name) %>%\n",
    "    mutate(Num_Sales = row_number() - 1 ,\n",
    "           Num_Phone_Sales= cumsum(Type == \"Phone\") - as.numeric(Type == \"Phone\"))"
   ]
  }
 ],
 "metadata": {
  "kernelspec": {
   "display_name": "R",
   "language": "R",
   "name": "ir"
  },
  "language_info": {
   "codemirror_mode": "r",
   "file_extension": ".r",
   "mimetype": "text/x-r-source",
   "name": "R",
   "pygments_lexer": "r",
   "version": "3.4.2"
  }
 },
 "nbformat": 4,
 "nbformat_minor": 2
}
