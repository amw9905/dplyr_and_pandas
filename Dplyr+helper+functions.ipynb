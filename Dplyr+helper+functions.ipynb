{
 "cells": [
  {
   "cell_type": "code",
   "execution_count": 80,
   "metadata": {
    "collapsed": true
   },
   "outputs": [],
   "source": [
    "library(dplyr)"
   ]
  },
  {
   "cell_type": "code",
   "execution_count": 81,
   "metadata": {
    "collapsed": true
   },
   "outputs": [],
   "source": [
    "#Returns elements with most occurrences in a vector \n",
    "Mode <- function(x){\n",
    "  dd <- unique(x)\n",
    "  dd[which.max(tabulate(match(x,dd)))]\n",
    "}"
   ]
  },
  {
   "cell_type": "code",
   "execution_count": 82,
   "metadata": {
    "collapsed": true
   },
   "outputs": [],
   "source": [
    "#Returns non empty sting with most occurrences in a vector \n",
    "ModeChar <- function(x){\n",
    "  \n",
    "  #Get rid of NA or empty values\n",
    "  x <- x[!(x %in% c('',' ','NA','N/A','na','n/a'))]\n",
    "\n",
    "  \n",
    "  dd <- unique(x)\n",
    "  D <- dd[which.max(tabulate(match(x,dd)))]\n",
    "  \n",
    "    \n",
    "  if(is.na(D)){\n",
    "    D <- ' '\n",
    "    as.character(D)\n",
    "  }\n",
    "  if(!is.na(D)){\n",
    "    as.character(D)\n",
    "  }\n",
    "   \n",
    "}"
   ]
  },
  {
   "cell_type": "code",
   "execution_count": 83,
   "metadata": {
    "collapsed": true
   },
   "outputs": [],
   "source": [
    "#Get item assicated with the max of another array\n",
    "Which.Max <- function(x,y){\n",
    "  x[which.max(y)]\n",
    "}\n",
    "\n",
    "#Get item assicated with the min of another array\n",
    "Which.Min <- function(x,y){\n",
    "  x[which.min(y)]\n",
    "}\n",
    "\n",
    "#Get sub-array from one array assicated with an item of another array\n",
    "Which.Array <- function(x,y,z){\n",
    "  a <- x[which(y==z)]\n",
    "  a\n",
    "}\n",
    "\n",
    "\n",
    "#Get 1 item from one array assicated with an item of another array\n",
    "Which.Item <- function(x,y,z){\n",
    "  a <- x[which(y==z)][1]\n",
    "  a\n",
    "}"
   ]
  },
  {
   "cell_type": "code",
   "execution_count": 91,
   "metadata": {
    "collapsed": true
   },
   "outputs": [],
   "source": [
    "#Turn a vector of entries into a list\n",
    "Agg.List <- function(x){\n",
    "    \n",
    "    #Get rid of NA or empty values\n",
    "    x <- x[!(x %in% c('',' ','NA','N/A','na','n/a'))]\n",
    "    \n",
    "    x <- sort(x)\n",
    "    \n",
    "    paste(sort(x),collapse=\"  |  \")\n",
    "}\n",
    "\n",
    "\n",
    "\n",
    "#Turn a vector of entries into a list of uniques\n",
    "Agg.List.U <- function(x){\n",
    "    \n",
    "    #Get rid of NA or empty values\n",
    "    x <- x[!(x %in% c('',' ','NA','N/A','na','n/a'))]\n",
    "    x <- sort(unique(x))\n",
    "    \n",
    "    paste(sort(x),collapse=\"  |  \")\n",
    "}"
   ]
  },
  {
   "cell_type": "code",
   "execution_count": 96,
   "metadata": {
    "collapsed": true
   },
   "outputs": [],
   "source": [
    "#Create test df\n",
    "df_test <- data.frame(Name = c('Jack','Jack','Jack',\n",
    "                     'Al','Al','Al','Al',\n",
    "                     'Sam','Sam','Sam'),\n",
    "           Date = as.Date(c('2011-10-09','2011-11-09','2011-09-09',\n",
    "                     '2011-12-09','2011-11-08','2011-11-06','2011-12-29',\n",
    "                     '2011-10-09','2011-10-09','2010-10-09')),\n",
    "           City = c('Urbana','Champaign','Urbana',\n",
    "                     'Dayton','Dayton','N/A',' ',\n",
    "                     'Lafayette','Lafayette','New Orleans'),\n",
    "           Sales = c(2000,3000,3050,\n",
    "                     4000,6000,2000,1500,\n",
    "                     2500,3000,4000))\n"
   ]
  },
  {
   "cell_type": "code",
   "execution_count": 97,
   "metadata": {},
   "outputs": [
    {
     "data": {
      "text/html": [
       "<table>\n",
       "<thead><tr><th scope=col>Name</th><th scope=col>MaxDate</th><th scope=col>CityMaxDate</th><th scope=col>SaleMaxDate</th></tr></thead>\n",
       "<tbody>\n",
       "\t<tr><td>Al        </td><td>2011-12-29</td><td>          </td><td>1500      </td></tr>\n",
       "\t<tr><td>Jack      </td><td>2011-11-09</td><td>Champaign </td><td>3000      </td></tr>\n",
       "\t<tr><td>Sam       </td><td>2011-10-09</td><td>Lafayette </td><td>2500      </td></tr>\n",
       "</tbody>\n",
       "</table>\n"
      ],
      "text/latex": [
       "\\begin{tabular}{r|llll}\n",
       " Name & MaxDate & CityMaxDate & SaleMaxDate\\\\\n",
       "\\hline\n",
       "\t Al         & 2011-12-29 &            & 1500      \\\\\n",
       "\t Jack       & 2011-11-09 & Champaign  & 3000      \\\\\n",
       "\t Sam        & 2011-10-09 & Lafayette  & 2500      \\\\\n",
       "\\end{tabular}\n"
      ],
      "text/markdown": [
       "\n",
       "Name | MaxDate | CityMaxDate | SaleMaxDate | \n",
       "|---|---|---|\n",
       "| Al         | 2011-12-29 |            | 1500       | \n",
       "| Jack       | 2011-11-09 | Champaign  | 3000       | \n",
       "| Sam        | 2011-10-09 | Lafayette  | 2500       | \n",
       "\n",
       "\n"
      ],
      "text/plain": [
       "  Name MaxDate    CityMaxDate SaleMaxDate\n",
       "1 Al   2011-12-29             1500       \n",
       "2 Jack 2011-11-09 Champaign   3000       \n",
       "3 Sam  2011-10-09 Lafayette   2500       "
      ]
     },
     "metadata": {},
     "output_type": "display_data"
    }
   ],
   "source": [
    "#Find max date and corresponding city & sale\n",
    "df_test %>% \n",
    "    group_by(Name) %>%\n",
    "    summarise(MaxDate = max(Date),\n",
    "              CityMaxDate = Which.Max(City,Date),\n",
    "              SaleMaxDate = Which.Max(Sales,Date))"
   ]
  },
  {
   "cell_type": "code",
   "execution_count": 98,
   "metadata": {},
   "outputs": [
    {
     "data": {
      "text/html": [
       "<table>\n",
       "<thead><tr><th scope=col>Name</th><th scope=col>MaxSale</th><th scope=col>CityMaxSale</th><th scope=col>DateMaxSale</th></tr></thead>\n",
       "<tbody>\n",
       "\t<tr><td>Al         </td><td>6000       </td><td>Dayton     </td><td>2011-11-08 </td></tr>\n",
       "\t<tr><td>Jack       </td><td>3050       </td><td>Urbana     </td><td>2011-09-09 </td></tr>\n",
       "\t<tr><td>Sam        </td><td>4000       </td><td>New Orleans</td><td>2010-10-09 </td></tr>\n",
       "</tbody>\n",
       "</table>\n"
      ],
      "text/latex": [
       "\\begin{tabular}{r|llll}\n",
       " Name & MaxSale & CityMaxSale & DateMaxSale\\\\\n",
       "\\hline\n",
       "\t Al          & 6000        & Dayton      & 2011-11-08 \\\\\n",
       "\t Jack        & 3050        & Urbana      & 2011-09-09 \\\\\n",
       "\t Sam         & 4000        & New Orleans & 2010-10-09 \\\\\n",
       "\\end{tabular}\n"
      ],
      "text/markdown": [
       "\n",
       "Name | MaxSale | CityMaxSale | DateMaxSale | \n",
       "|---|---|---|\n",
       "| Al          | 6000        | Dayton      | 2011-11-08  | \n",
       "| Jack        | 3050        | Urbana      | 2011-09-09  | \n",
       "| Sam         | 4000        | New Orleans | 2010-10-09  | \n",
       "\n",
       "\n"
      ],
      "text/plain": [
       "  Name MaxSale CityMaxSale DateMaxSale\n",
       "1 Al   6000    Dayton      2011-11-08 \n",
       "2 Jack 3050    Urbana      2011-09-09 \n",
       "3 Sam  4000    New Orleans 2010-10-09 "
      ]
     },
     "metadata": {},
     "output_type": "display_data"
    }
   ],
   "source": [
    "#Find max sale and corresponding city & date\n",
    "df_test %>% \n",
    "    group_by(Name) %>%\n",
    "    summarise(MaxSale = max(Sales),\n",
    "              CityMaxSale = Which.Max(City,Sales),\n",
    "              DateMaxSale = Which.Max(Date,Sales))"
   ]
  },
  {
   "cell_type": "code",
   "execution_count": 99,
   "metadata": {},
   "outputs": [
    {
     "data": {
      "text/html": [
       "<table>\n",
       "<thead><tr><th scope=col>Name</th><th scope=col>ModeCity</th><th scope=col>MeanSalesModeCity</th></tr></thead>\n",
       "<tbody>\n",
       "\t<tr><td>Al       </td><td>Dayton   </td><td>5000     </td></tr>\n",
       "\t<tr><td>Jack     </td><td>Urbana   </td><td>2525     </td></tr>\n",
       "\t<tr><td>Sam      </td><td>Lafayette</td><td>2750     </td></tr>\n",
       "</tbody>\n",
       "</table>\n"
      ],
      "text/latex": [
       "\\begin{tabular}{r|lll}\n",
       " Name & ModeCity & MeanSalesModeCity\\\\\n",
       "\\hline\n",
       "\t Al        & Dayton    & 5000     \\\\\n",
       "\t Jack      & Urbana    & 2525     \\\\\n",
       "\t Sam       & Lafayette & 2750     \\\\\n",
       "\\end{tabular}\n"
      ],
      "text/markdown": [
       "\n",
       "Name | ModeCity | MeanSalesModeCity | \n",
       "|---|---|---|\n",
       "| Al        | Dayton    | 5000      | \n",
       "| Jack      | Urbana    | 2525      | \n",
       "| Sam       | Lafayette | 2750      | \n",
       "\n",
       "\n"
      ],
      "text/plain": [
       "  Name ModeCity  MeanSalesModeCity\n",
       "1 Al   Dayton    5000             \n",
       "2 Jack Urbana    2525             \n",
       "3 Sam  Lafayette 2750             "
      ]
     },
     "metadata": {},
     "output_type": "display_data"
    }
   ],
   "source": [
    "#Find mode city and mean of sales in that city\n",
    "df_test %>% \n",
    "    group_by(Name) %>%\n",
    "    summarise(ModeCity = ModeChar(City),\n",
    "              MeanSalesModeCity = mean ( Which.Array(Sales,City,ModeChar(City)) ) )"
   ]
  },
  {
   "cell_type": "code",
   "execution_count": 101,
   "metadata": {},
   "outputs": [
    {
     "data": {
      "text/html": [
       "<table>\n",
       "<thead><tr><th scope=col>Name</th><th scope=col>ListCity</th></tr></thead>\n",
       "<tbody>\n",
       "\t<tr><td>Al                       </td><td>Dayton                   </td></tr>\n",
       "\t<tr><td>Jack                     </td><td>Champaign  |  Urbana     </td></tr>\n",
       "\t<tr><td>Sam                      </td><td>Lafayette  |  New Orleans</td></tr>\n",
       "</tbody>\n",
       "</table>\n"
      ],
      "text/latex": [
       "\\begin{tabular}{r|ll}\n",
       " Name & ListCity\\\\\n",
       "\\hline\n",
       "\t Al                        & Dayton                   \\\\\n",
       "\t Jack                                & Champaign  \\textbar{}  Urbana     \\\\\n",
       "\t Sam                                 & Lafayette  \\textbar{}  New Orleans\\\\\n",
       "\\end{tabular}\n"
      ],
      "text/markdown": [
       "\n",
       "Name | ListCity | \n",
       "|---|---|---|\n",
       "| Al                        | Dayton                    | \n",
       "| Jack                      | Champaign  |  Urbana      | \n",
       "| Sam                       | Lafayette  |  New Orleans | \n",
       "\n",
       "\n"
      ],
      "text/plain": [
       "  Name ListCity                 \n",
       "1 Al   Dayton                   \n",
       "2 Jack Champaign  |  Urbana     \n",
       "3 Sam  Lafayette  |  New Orleans"
      ]
     },
     "metadata": {},
     "output_type": "display_data"
    }
   ],
   "source": [
    "#Get list of unique cities per person\n",
    "df_test %>% \n",
    "    group_by(Name) %>%\n",
    "    summarise(ListCity = Agg.List.U(City))"
   ]
  },
  {
   "cell_type": "code",
   "execution_count": null,
   "metadata": {
    "collapsed": true
   },
   "outputs": [],
   "source": []
  }
 ],
 "metadata": {
  "kernelspec": {
   "display_name": "R",
   "language": "R",
   "name": "ir"
  },
  "language_info": {
   "codemirror_mode": "r",
   "file_extension": ".r",
   "mimetype": "text/x-r-source",
   "name": "R",
   "pygments_lexer": "r",
   "version": "3.4.2"
  }
 },
 "nbformat": 4,
 "nbformat_minor": 2
}
